{
 "cells": [
  {
   "cell_type": "markdown",
   "id": "883ae1dc",
   "metadata": {},
   "source": [
    "### Geração da Base de Dados"
   ]
  },
  {
   "cell_type": "code",
   "execution_count": 1,
   "id": "3b694805",
   "metadata": {},
   "outputs": [
    {
     "name": "stdout",
     "output_type": "stream",
     "text": [
      "✅ Base orçamentária com forecast salva em: ../dados/orcamento_empresa.csv\n"
     ]
    }
   ],
   "source": [
    "import pandas as pd\n",
    "import numpy as np\n",
    "import os\n",
    "\n",
    "# Criar diretório, se não existir\n",
    "os.makedirs(\"../dados\", exist_ok=True)\n",
    "\n",
    "# Parâmetros\n",
    "departamentos = ['Financeiro', 'Marketing', 'RH', 'Operações', 'TI']\n",
    "meses = ['Jan', 'Fev', 'Mar', 'Abr', 'Mai', 'Jun', 'Jul', 'Ago', 'Set', 'Out', 'Nov', 'Dez']\n",
    "ano = 2024\n",
    "\n",
    "# Geração dos dados\n",
    "dados = []\n",
    "np.random.seed(42)  # reprodutibilidade\n",
    "\n",
    "for dept in departamentos:\n",
    "    base = np.random.randint(15000, 25000)\n",
    "    crescimento_mensal = np.random.uniform(0.01, 0.03)  # 1% a 3% de crescimento\n",
    "\n",
    "    for i, mes in enumerate(meses):\n",
    "        orcado = base * (1 + crescimento_mensal) ** i\n",
    "        realizado = orcado + np.random.normal(0, 3000)  # ruído normal\n",
    "        forecast = orcado + np.random.normal(0, 2000)   # projeção com menos ruído\n",
    "\n",
    "        dados.append([\n",
    "            ano, dept, mes,\n",
    "            round(orcado, 2),\n",
    "            round(realizado, 2),\n",
    "            round(forecast, 2)\n",
    "        ])\n",
    "\n",
    "# Criar DataFrame\n",
    "colunas = [\"Ano\", \"Departamento\", \"Mes\", \"Orcado\", \"Realizado\", \"Forecast\"]\n",
    "df = pd.DataFrame(dados, columns=colunas)\n",
    "\n",
    "# Salvar CSV\n",
    "caminho_csv = \"../dados/orcamento_empresa.csv\"\n",
    "df.to_csv(caminho_csv, index=False, encoding=\"utf-8-sig\")\n",
    "\n",
    "print(f\"✅ Base orçamentária com forecast salva em: {caminho_csv}\")"
   ]
  }
 ],
 "metadata": {
  "kernelspec": {
   "display_name": "FPeA",
   "language": "python",
   "name": "python3"
  },
  "language_info": {
   "codemirror_mode": {
    "name": "ipython",
    "version": 3
   },
   "file_extension": ".py",
   "mimetype": "text/x-python",
   "name": "python",
   "nbconvert_exporter": "python",
   "pygments_lexer": "ipython3",
   "version": "3.12.10"
  }
 },
 "nbformat": 4,
 "nbformat_minor": 5
}
